{
 "cells": [
  {
   "cell_type": "code",
   "execution_count": 12,
   "metadata": {},
   "outputs": [
    {
     "name": "stderr",
     "output_type": "stream",
     "text": [
      "All PyTorch model weights were used when initializing TFBertForMaskedLM.\n",
      "\n",
      "All the weights of TFBertForMaskedLM were initialized from the PyTorch model.\n",
      "If your task is similar to the task the model of the checkpoint was trained on, you can already use TFBertForMaskedLM for predictions without further training.\n"
     ]
    },
    {
     "name": "stdout",
     "output_type": "stream",
     "text": [
      "Model: \"tf_bert_for_masked_lm_1\"\n",
      "_________________________________________________________________\n",
      " Layer (type)                Output Shape              Param #   \n",
      "=================================================================\n",
      " bert (TFBertMainLayer)      multiple                  108891648 \n",
      "                                                                 \n",
      " mlm___cls (TFBertMLMHead)   multiple                  24459834  \n",
      "                                                                 \n",
      "=================================================================\n",
      "Total params: 109514298 (417.76 MB)\n",
      "Trainable params: 109514298 (417.76 MB)\n",
      "Non-trainable params: 0 (0.00 Byte)\n",
      "_________________________________________________________________\n"
     ]
    }
   ],
   "source": [
    "from transformers import BertTokenizer, TFBertForMaskedLM\n",
    "#from torch.utils.data import DataLoader, Dataset\n",
    "import tensorflow as tf\n",
    "import numpy as np\n",
    "import re\n",
    "import matplotlib.pyplot as plt\n",
    "from datasets import load_dataset\n",
    "#from datasets import load_dataset, load_metric\n",
    "#from sklearn.model_selection import train_test_split\n",
    "#from transformers import Trainer, TrainingArguments\n",
    "import streamlit as st\n",
    "\n",
    "tokenizer = BertTokenizer.from_pretrained('bert-base-uncased')\n",
    "model = TFBertForMaskedLM.from_pretrained('bert-base-uncased')\n",
    "\n",
    "model.summary()"
   ]
  },
  {
   "cell_type": "code",
   "execution_count": 3,
   "metadata": {},
   "outputs": [
    {
     "name": "stdout",
     "output_type": "stream",
     "text": [
      "dict_keys(['input_ids', 'token_type_ids', 'attention_mask'])\n"
     ]
    }
   ],
   "source": [
    "# load in the dataset\n",
    "dataset_name = \"c4\"\n",
    "task_name = \"en\"\n",
    "dataset = load_dataset(dataset_name, task_name, split=\"validation\",streaming=True)\n",
    "\n",
    "# count = 0\n",
    "# for example in dataset:\n",
    "#     if count >= 1000:\n",
    "#         break\n",
    "#     # Process or use the example as needed\n",
    "#     print(example[\"text\"])  # Or perform any other operation\n",
    "#     count += 1\n",
    "\n",
    "#convert dataset to a list so I can fine tune\n",
    "dataset_list = list(dataset)\n",
    "\n",
    "# sampleing subset for demonstration purposes\n",
    "subset_size = 1000\n",
    "data_subset = dataset_list[:min(subset_size, len(dataset_list))]\n",
    "\n",
    "# extracting texts from the subset\n",
    "texts = [example[\"text\"] for example in data_subset]\n",
    "\n",
    "# tokenize the texts\n",
    "inputs = tokenizer(texts,max_length=100, padding='max_length', truncation=True, return_tensors=\"tf\")\n",
    "\n",
    "print(inputs.keys())\n"
   ]
  },
  {
   "cell_type": "code",
   "execution_count": 7,
   "metadata": {},
   "outputs": [
    {
     "name": "stdout",
     "output_type": "stream",
     "text": [
      "Epoch 1/3\n",
      "125/125 [==============================] - 509s 4s/step - loss: 0.7988\n",
      "Epoch 2/3\n",
      "125/125 [==============================] - 453s 4s/step - loss: 0.6992\n",
      "Epoch 3/3\n",
      "125/125 [==============================] - 442s 4s/step - loss: 0.6010\n"
     ]
    }
   ],
   "source": [
    "# Adding Labels\n",
    "inp_ids = []\n",
    "labels = []\n",
    "max_label_length = 100\n",
    "for inp in inputs.input_ids.numpy():\n",
    "    actual_tokens = list(set(range(100)) - set(np.where((inp == 101) | (inp == 102) | (inp == 0))[0].tolist()))\n",
    "    num_of_token_to_mask = int(len(actual_tokens) * 0.15)\n",
    "    token_to_mask = np.random.choice(np.array(actual_tokens), size=num_of_token_to_mask, replace=False).tolist()\n",
    "    \n",
    "    label = inp[token_to_mask].copy()\n",
    "    inp[token_to_mask] = 103\n",
    "\n",
    "    pad_length = max_label_length - len(label)\n",
    "    label = np.pad(label, (0, pad_length), mode='constant', constant_values=0)\n",
    "\n",
    "    inp_ids.append(inp)\n",
    "    labels.append(label)\n",
    "    \n",
    "inp_ids = tf.convert_to_tensor(inp_ids)\n",
    "labels = tf.convert_to_tensor(labels)\n",
    "inputs['input_ids'] = inp_ids\n",
    "inputs['labels'] = labels\n",
    "\n",
    "# Compile and train the model\n",
    "model.compile(optimizer=tf.keras.optimizers.Adam(learning_rate=0.0001), loss=tf.keras.losses.SparseCategoricalCrossentropy(from_logits=True))\n",
    "history = model.fit([inputs.input_ids, inputs.attention_mask], inputs.labels, verbose=1, batch_size=8, epochs=3)"
   ]
  },
  {
   "cell_type": "code",
   "execution_count": 8,
   "metadata": {},
   "outputs": [
    {
     "data": {
      "image/png": "[encoded data removed]",
      "text/plain": [
       "<Figure size 500x500 with 1 Axes>"
      ]
     },
     "metadata": {},
     "output_type": "display_data"
    }
   ],
   "source": [
    "#plotting\n",
    "losses = history.history['loss']\n",
    "fig = plt.figure(figsize=(5,5))\n",
    "ax1 = fig.add_subplot(111)\n",
    "ax1.plot(range(len(losses)),losses)\n",
    "ax1.set_xlabel(\"Epochs\")\n",
    "ax1.set_ylabel(\"Loss\")\n",
    "ax1.set_title(\"Epoch vs Loss\")\n",
    "plt.grid()\n",
    "plt.show()"
   ]
  },
  {
   "cell_type": "code",
   "execution_count": 11,
   "metadata": {},
   "outputs": [
    {
     "data": {
      "text/plain": [
       "'[PAD] [PAD]'"
      ]
     },
     "execution_count": 11,
     "metadata": {},
     "output_type": "execute_result"
    }
   ],
   "source": [
    "query = \"Good morning [MASK], have a [MASK] day\"\n",
    "inp = tokenizer(query,return_tensors='tf')\n",
    "mask_loc = np.where(inp.input_ids.numpy()[0] == 103)[0].tolist()\n",
    "out = model(inp).logits[0].numpy()\n",
    "predicted_tokens = np.argmax(out[mask_loc],axis=1).tolist()\n",
    "tokenizer.decode(predicted_tokens)"
   ]
  },
  {
   "cell_type": "code",
   "execution_count": 10,
   "metadata": {},
   "outputs": [],
   "source": [
    "st.title(\"Sentence Creation\")\n",
    "\n",
    "st.subheader(\"Epoch Vs. Loss\")\n",
    "st.pyplot(fig)\n",
    "\n",
    "st.write(\"Final Loss:\", losses[-1])"
   ]
  }
 ],
 "metadata": {
  "kernelspec": {
   "display_name": "cis477",
   "language": "python",
   "name": "python3"
  },
  "language_info": {
   "codemirror_mode": {
    "name": "ipython",
    "version": 3
   },
   "file_extension": ".py",
   "mimetype": "text/x-python",
   "name": "python",
   "nbconvert_exporter": "python",
   "pygments_lexer": "ipython3",
   "version": "3.9.18"
  }
 },
 "nbformat": 4,
 "nbformat_minor": 2
}
