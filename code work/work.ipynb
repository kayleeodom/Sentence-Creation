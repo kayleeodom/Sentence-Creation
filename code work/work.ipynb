{
 "cells": [
  {
   "cell_type": "markdown",
   "metadata": {},
   "source": [
    "# Required libs and Pulling in Pre-trained Model"
   ]
  },
  {
   "cell_type": "code",
   "execution_count": 2,
   "metadata": {},
   "outputs": [
    {
     "name": "stderr",
     "output_type": "stream",
     "text": [
      "c:\\Users\\kodom\\anaconda3\\envs\\cis477\\lib\\site-packages\\tqdm\\auto.py:21: TqdmWarning: IProgress not found. Please update jupyter and ipywidgets. See https://ipywidgets.readthedocs.io/en/stable/user_install.html\n",
      "  from .autonotebook import tqdm as notebook_tqdm\n"
     ]
    },
    {
     "name": "stdout",
     "output_type": "stream",
     "text": [
      "WARNING:tensorflow:From c:\\Users\\kodom\\anaconda3\\envs\\cis477\\lib\\site-packages\\keras\\src\\losses.py:2976: The name tf.losses.sparse_softmax_cross_entropy is deprecated. Please use tf.compat.v1.losses.sparse_softmax_cross_entropy instead.\n",
      "\n",
      "WARNING:tensorflow:From c:\\Users\\kodom\\anaconda3\\envs\\cis477\\lib\\site-packages\\keras\\src\\backend.py:873: The name tf.get_default_graph is deprecated. Please use tf.compat.v1.get_default_graph instead.\n",
      "\n"
     ]
    },
    {
     "name": "stderr",
     "output_type": "stream",
     "text": [
      "All PyTorch model weights were used when initializing TFBertForMaskedLM.\n",
      "\n",
      "All the weights of TFBertForMaskedLM were initialized from the PyTorch model.\n",
      "If your task is similar to the task the model of the checkpoint was trained on, you can already use TFBertForMaskedLM for predictions without further training.\n"
     ]
    },
    {
     "name": "stdout",
     "output_type": "stream",
     "text": [
      "Model: \"tf_bert_for_masked_lm\"\n",
      "_________________________________________________________________\n",
      " Layer (type)                Output Shape              Param #   \n",
      "=================================================================\n",
      " bert (TFBertMainLayer)      multiple                  108891648 \n",
      "                                                                 \n",
      " mlm___cls (TFBertMLMHead)   multiple                  24459834  \n",
      "                                                                 \n",
      "=================================================================\n",
      "Total params: 109514298 (417.76 MB)\n",
      "Trainable params: 109514298 (417.76 MB)\n",
      "Non-trainable params: 0 (0.00 Byte)\n",
      "_________________________________________________________________\n"
     ]
    }
   ],
   "source": [
    "from transformers import BertTokenizer, TFBertForMaskedLM\n",
    "import tensorflow as tf\n",
    "import numpy as np\n",
    "#import re\n",
    "import matplotlib.pyplot as plt\n",
    "from datasets import load_dataset\n",
    "import streamlit as st\n",
    "\n",
    "tokenizer = BertTokenizer.from_pretrained('bert-base-uncased')\n",
    "model = TFBertForMaskedLM.from_pretrained('bert-base-uncased')\n",
    "\n",
    "model.summary()"
   ]
  },
  {
   "cell_type": "code",
   "execution_count": 3,
   "metadata": {},
   "outputs": [
    {
     "name": "stdout",
     "output_type": "stream",
     "text": [
      "Masked Token Position: [2]\n",
      "1/1 [==============================] - 11s 11s/step\n",
      "Predicted Words: love\n"
     ]
    }
   ],
   "source": [
    "query = \"I [MASK] this movie so much\"\n",
    "inp = tokenizer(query,return_tensors='tf')\n",
    "\n",
    "mask_loc = np.where(inp['input_ids'].numpy()[0] == tokenizer.mask_token_id)[0].tolist()\n",
    "\n",
    "print(f\"Masked Token Position: {mask_loc}\")\n",
    "\n",
    "out = model.predict([inp['input_ids'], inp['attention_mask']])\n",
    "predicted_tokens = np.argmax(out['logits'][0][mask_loc],axis=1).tolist()\n",
    "\n",
    "predicted_words = tokenizer.decode(predicted_tokens)\n",
    "print(f\"Predicted Words: {predicted_words}\")\n"
   ]
  },
  {
   "cell_type": "markdown",
   "metadata": {},
   "source": [
    "# Loading in dataset from Hugging Face"
   ]
  },
  {
   "cell_type": "code",
   "execution_count": 23,
   "metadata": {},
   "outputs": [],
   "source": [
    "# load in the dataset\n",
    "dataset_name = \"c4\"\n",
    "task_name = \"en\"\n",
    "dataset = load_dataset(dataset_name, task_name, split=\"validation\",streaming=True)\n",
    "\n",
    "\n",
    "# count = 0\n",
    "# for example in dataset_list:\n",
    "#     if count >= 1000:\n",
    "#         break\n",
    "#     # Process or use the example as needed\n",
    "#     print(example[\"text\"])  # Or perform any other operation\n",
    "#     count += 1\n",
    "\n",
    "#convert dataset to a list so I can fine tune\n",
    "dataset_list = list(dataset)"
   ]
  },
  {
   "cell_type": "markdown",
   "metadata": {},
   "source": [
    "# Taking a portion of the dataset and tokenizing "
   ]
  },
  {
   "cell_type": "code",
   "execution_count": 24,
   "metadata": {},
   "outputs": [
    {
     "name": "stdout",
     "output_type": "stream",
     "text": [
      "dict_keys(['input_ids', 'token_type_ids', 'attention_mask'])\n"
     ]
    }
   ],
   "source": [
    "\n",
    "# sampleing subset for demonstration purposes\n",
    "subset_size = 100\n",
    "data_subset = dataset_list[:min(subset_size, len(dataset_list))]\n",
    "\n",
    "# extracting texts from the subset\n",
    "texts = [example[\"text\"] for example in data_subset]\n",
    "\n",
    "# tokenize the texts\n",
    "inputs = tokenizer(texts,max_length=100, padding='max_length', truncation=True, return_tensors=\"tf\")\n",
    "\n",
    "print(inputs.keys())\n"
   ]
  },
  {
   "cell_type": "code",
   "execution_count": 25,
   "metadata": {},
   "outputs": [
    {
     "data": {
      "text/plain": [
       "dict_keys(['input_ids', 'token_type_ids', 'attention_mask', 'labels'])"
      ]
     },
     "execution_count": 25,
     "metadata": {},
     "output_type": "execute_result"
    }
   ],
   "source": [
    "inputs['labels'] = inputs['input_ids']\n",
    "inputs.keys()"
   ]
  },
  {
   "cell_type": "markdown",
   "metadata": {},
   "source": [
    "# Adding Labels and Fine-tuning the Model"
   ]
  },
  {
   "cell_type": "code",
   "execution_count": 26,
   "metadata": {},
   "outputs": [],
   "source": [
    "# Adding Labels (helps with fine-tuning)\n",
    "inp_ids = []\n",
    "labels = []\n",
    "max_label_length = 100\n",
    "for inp in inputs.input_ids.numpy():\n",
    "    actual_tokens = list(set(range(100)) - set(np.where((inp == 101) | (inp == 102) | (inp == 0))[0].tolist()))\n",
    "    num_of_token_to_mask = int(len(actual_tokens) * 0.15)\n",
    "    token_to_mask = np.random.choice(np.array(actual_tokens), size=num_of_token_to_mask, replace=False).tolist()\n",
    "    \n",
    "    label = inp[token_to_mask].copy()\n",
    "    inp[token_to_mask] = 103\n",
    "\n",
    "    pad_length = max_label_length - len(label)\n",
    "    label = np.pad(label, (0, pad_length), mode='constant', constant_values=0)\n",
    "\n",
    "    inp_ids.append(inp)\n",
    "    labels.append(label)\n",
    "    \n",
    "inp_ids = tf.convert_to_tensor(inp_ids)\n",
    "labels = tf.convert_to_tensor(labels)\n",
    "inputs['input_ids'] = inp_ids\n",
    "inputs['labels'] = labels"
   ]
  },
  {
   "cell_type": "code",
   "execution_count": 27,
   "metadata": {},
   "outputs": [
    {
     "name": "stdout",
     "output_type": "stream",
     "text": [
      "Epoch 1/6\n",
      "8/8 [==============================] - 116s 8s/step - loss: 0.9929 - accuracy: 0.8731\n",
      "Epoch 2/6\n",
      "8/8 [==============================] - 41s 5s/step - loss: 0.8491 - accuracy: 0.8780\n",
      "Epoch 3/6\n",
      "8/8 [==============================] - 38s 5s/step - loss: 0.7339 - accuracy: 0.8796\n",
      "Epoch 4/6\n",
      "8/8 [==============================] - 55s 7s/step - loss: 0.5969 - accuracy: 0.8898\n",
      "Epoch 5/6\n",
      "8/8 [==============================] - 62s 8s/step - loss: 0.4439 - accuracy: 0.9066\n",
      "Epoch 6/6\n",
      "8/8 [==============================] - 87s 11s/step - loss: 0.2900 - accuracy: 0.9351\n"
     ]
    }
   ],
   "source": [
    "# Compile and fine-tune the model\n",
    "model.compile(optimizer=tf.keras.optimizers.Adam(learning_rate=0.0001), loss=tf.keras.losses.SparseCategoricalCrossentropy(from_logits=True),metrics=['accuracy'])\n",
    "history = model.fit([inputs.input_ids, inputs.attention_mask], inputs.labels, verbose=1, batch_size=14, epochs=6)"
   ]
  },
  {
   "cell_type": "markdown",
   "metadata": {},
   "source": [
    "# Visual "
   ]
  },
  {
   "cell_type": "code",
   "execution_count": 28,
   "metadata": {},
   "outputs": [
    {
     "data": {
      "image/png": "[encoded data removed]",
      "text/plain": [
       "<Figure size 500x500 with 1 Axes>"
      ]
     },
     "metadata": {},
     "output_type": "display_data"
    }
   ],
   "source": [
    "#plotting\n",
    "losses = history.history['loss']\n",
    "fig = plt.figure(figsize=(5,5))\n",
    "ax1 = fig.add_subplot(111)\n",
    "ax1.plot(range(len(losses)),losses)\n",
    "ax1.set_xlabel(\"Epochs\")\n",
    "ax1.set_ylabel(\"Loss\")\n",
    "ax1.set_title(\"Epoch vs Loss\")\n",
    "plt.grid()\n",
    "plt.show()"
   ]
  },
  {
   "cell_type": "markdown",
   "metadata": {},
   "source": [
    "# Metrics"
   ]
  },
  {
   "cell_type": "code",
   "execution_count": 29,
   "metadata": {},
   "outputs": [
    {
     "name": "stdout",
     "output_type": "stream",
     "text": [
      "4/4 [==============================] - 30s 2s/step - loss: 0.1246 - accuracy: 0.9753\n"
     ]
    }
   ],
   "source": [
    "train_metrics = model.evaluate([inputs.input_ids, inputs.attention_mask], inputs.labels)"
   ]
  },
  {
   "cell_type": "code",
   "execution_count": 30,
   "metadata": {},
   "outputs": [
    {
     "name": "stdout",
     "output_type": "stream",
     "text": [
      "[0.12461790442466736, 0.9753000140190125]\n"
     ]
    }
   ],
   "source": [
    "print(train_metrics)"
   ]
  },
  {
   "cell_type": "markdown",
   "metadata": {},
   "source": [
    "# Real - time Demo"
   ]
  },
  {
   "cell_type": "code",
   "execution_count": 4,
   "metadata": {},
   "outputs": [
    {
     "name": "stdout",
     "output_type": "stream",
     "text": [
      "Masked Token Position: (array([5], dtype=int64),)\n",
      "Predicted Words: railway\n"
     ]
    }
   ],
   "source": [
    "query = \"She fell from the [MASK] bridge\"\n",
    "inp = tokenizer(query,return_tensors='tf')\n",
    "\n",
    "mask_loc = np.where(inp.input_ids.numpy()[0] == 103)\n",
    "\n",
    "print(f\"Masked Token Position: {mask_loc}\")\n",
    "\n",
    "out = model(inp).logits[0].numpy()\n",
    "predicted_tokens = np.argmax(out[mask_loc],axis=1).tolist()\n",
    "\n",
    "predicted_words = tokenizer.decode(predicted_tokens)\n",
    "print(f\"Predicted Words: {predicted_words}\")"
   ]
  }
 ],
 "metadata": {
  "kernelspec": {
   "display_name": "cis477",
   "language": "python",
   "name": "python3"
  },
  "language_info": {
   "codemirror_mode": {
    "name": "ipython",
    "version": 3
   },
   "file_extension": ".py",
   "mimetype": "text/x-python",
   "name": "python",
   "nbconvert_exporter": "python",
   "pygments_lexer": "ipython3",
   "version": "3.9.18"
  }
 },
 "nbformat": 4,
 "nbformat_minor": 2
}
